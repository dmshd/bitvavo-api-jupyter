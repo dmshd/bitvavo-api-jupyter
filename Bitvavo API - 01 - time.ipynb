{
 "cells": [
  {
   "cell_type": "code",
   "execution_count": 1,
   "id": "thorough-sequence",
   "metadata": {},
   "outputs": [],
   "source": [
    "from python_bitvavo_api.bitvavo import Bitvavo"
   ]
  },
  {
   "cell_type": "code",
   "execution_count": 3,
   "id": "extended-sierra",
   "metadata": {},
   "outputs": [
    {
     "name": "stdout",
     "output_type": "stream",
     "text": [
      "Current time: 1615747842310\n"
     ]
    }
   ],
   "source": [
    "bitvavo = Bitvavo()\n",
    "response = bitvavo.time()\n",
    "print('Current time:', response['time'])"
   ]
  },
  {
   "cell_type": "code",
   "execution_count": null,
   "id": "challenging-compression",
   "metadata": {},
   "outputs": [],
   "source": []
  }
 ],
 "metadata": {
  "kernelspec": {
   "display_name": "Python 3",
   "language": "python",
   "name": "python3"
  },
  "language_info": {
   "codemirror_mode": {
    "name": "ipython",
    "version": 3
   },
   "file_extension": ".py",
   "mimetype": "text/x-python",
   "name": "python",
   "nbconvert_exporter": "python",
   "pygments_lexer": "ipython3",
   "version": "3.8.0"
  }
 },
 "nbformat": 4,
 "nbformat_minor": 5
}
